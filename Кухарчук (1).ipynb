{
  "nbformat": 4,
  "nbformat_minor": 0,
  "metadata": {
    "colab": {
      "provenance": []
    },
    "kernelspec": {
      "name": "python3",
      "display_name": "Python 3"
    },
    "language_info": {
      "name": "python"
    }
  },
  "cells": [
    {
      "cell_type": "code",
      "execution_count": 2,
      "metadata": {
        "colab": {
          "base_uri": "https://localhost:8080/"
        },
        "id": "EP_p1JMm7UCz",
        "outputId": "d7bcd920-9eea-4a40-bf1f-e1f9a11aeb29"
      },
      "outputs": [
        {
          "output_type": "stream",
          "name": "stdout",
          "text": [
            "Введіть кількість чисел: 4\n",
            "Введіть число #1: 10\n",
            "Введіть число #2: 10\n",
            "Введіть число #3: 10\n",
            "Введіть число #4: 10\n",
            "Середній розмір чисел у списку: 10.0\n"
          ]
        }
      ],
      "source": [
        "# Функція для обчислення середнього розміру чисел у списку\n",
        "def average(numbers):\n",
        "    if len(numbers) == 0:\n",
        "        return 0  # Якщо список порожній, повертаємо 0, або можна видачу підбирати за власними потребами\n",
        "    total = sum(numbers)  # Сума всіх чисел у списку\n",
        "    avg = total / len(numbers)  # Обчислюємо середнє значення\n",
        "    return avg\n",
        "\n",
        "# Запитуємо користувача про числа та зберігаємо їх у списку\n",
        "numbers = []\n",
        "n = int(input(\"Введіть кількість чисел: \"))\n",
        "for i in range(n):\n",
        "    num = float(input(f\"Введіть число #{i + 1}: \"))\n",
        "    numbers.append(num)\n",
        "\n",
        "# Викликаємо функцію для обчислення середнього розміру та виводимо результат\n",
        "result = average(numbers)\n",
        "print(f\"Середній розмір чисел у списку: {result}\")"
      ]
    }
  ]
}